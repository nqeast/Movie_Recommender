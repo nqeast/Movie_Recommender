{
 "cells": [
  {
   "cell_type": "markdown",
   "id": "0215419a",
   "metadata": {},
   "source": [
    "# Objective:\n",
    "- Step 1: Identify the top 3 most-rated movies from your dataset to present to the user.\n",
    "- Step 2: Get the new user's ratings for those movies.\n",
    "- Step 3: Add the new user and their ratings to the model.\n",
    "- Step 4: Generate movie recommendations for the new user."
   ]
  },
  {
   "cell_type": "code",
   "execution_count": 1,
   "id": "c75ca7ef",
   "metadata": {},
   "outputs": [],
   "source": [
    "import kagglehub\n",
    "import os\n",
    "import pandas as pd"
   ]
  },
  {
   "cell_type": "code",
   "execution_count": 2,
   "id": "242e4076",
   "metadata": {},
   "outputs": [
    {
     "name": "stdout",
     "output_type": "stream",
     "text": [
      "Path to dataset files: /Users/nicholasqualitza/.cache/kagglehub/datasets/prajitdatta/movielens-100k-dataset/versions/1\n"
     ]
    }
   ],
   "source": [
    "# Download latest version\n",
    "path = kagglehub.dataset_download(\"prajitdatta/movielens-100k-dataset\")\n",
    "print(\"Path to dataset files:\", path)"
   ]
  },
  {
   "cell_type": "code",
   "execution_count": 3,
   "id": "9e1ce3a8",
   "metadata": {},
   "outputs": [],
   "source": [
    "ml_100k_path = os.path.join(\"/Users/nicholasqualitza/.cache/kagglehub/datasets/prajitdatta/movielens-100k-dataset/versions/1\", \"ml-100k\")\n",
    "files_in_ml_100k = os.listdir(ml_100k_path)"
   ]
  },
  {
   "cell_type": "code",
   "execution_count": 4,
   "id": "aa76c2c4",
   "metadata": {},
   "outputs": [
    {
     "name": "stdout",
     "output_type": "stream",
     "text": [
      "   user_id  movie_id  rating  timestamp\n",
      "0      196       242       3  881250949\n",
      "1      186       302       3  891717742\n",
      "2       22       377       1  878887116\n",
      "3      244        51       2  880606923\n",
      "4      166       346       1  886397596\n",
      "   movie_id              title\n",
      "0         1   Toy Story (1995)\n",
      "1         2   GoldenEye (1995)\n",
      "2         3  Four Rooms (1995)\n",
      "3         4  Get Shorty (1995)\n",
      "4         5     Copycat (1995)\n"
     ]
    }
   ],
   "source": [
    "# import ratings and movie dataset\n",
    "ratings_path = os.path.join(ml_100k_path, \"u.data\")\n",
    "ratings = pd.read_csv(ratings_path, sep='\\t', names=['user_id', 'movie_id', 'rating', 'timestamp'])\n",
    "print(ratings.head())\n",
    "movies_path = os.path.join(ml_100k_path, \"u.item\")\n",
    "movies = pd.read_csv(movies_path, sep='|', encoding='ISO-8859-1', names=['movie_id', 'title'] + [f'col_{i}' for i in range(22)], usecols=['movie_id', 'title'])\n",
    "print(movies.head())"
   ]
  },
  {
   "cell_type": "code",
   "execution_count": 5,
   "id": "4d7b3666",
   "metadata": {},
   "outputs": [
    {
     "data": {
      "text/html": [
       "<div>\n",
       "<style scoped>\n",
       "    .dataframe tbody tr th:only-of-type {\n",
       "        vertical-align: middle;\n",
       "    }\n",
       "\n",
       "    .dataframe tbody tr th {\n",
       "        vertical-align: top;\n",
       "    }\n",
       "\n",
       "    .dataframe thead th {\n",
       "        text-align: right;\n",
       "    }\n",
       "</style>\n",
       "<table border=\"1\" class=\"dataframe\">\n",
       "  <thead>\n",
       "    <tr style=\"text-align: right;\">\n",
       "      <th></th>\n",
       "      <th>user_id</th>\n",
       "      <th>movie_id</th>\n",
       "      <th>rating</th>\n",
       "      <th>timestamp</th>\n",
       "      <th>title</th>\n",
       "    </tr>\n",
       "  </thead>\n",
       "  <tbody>\n",
       "    <tr>\n",
       "      <th>0</th>\n",
       "      <td>196</td>\n",
       "      <td>242</td>\n",
       "      <td>3</td>\n",
       "      <td>881250949</td>\n",
       "      <td>Kolya (1996)</td>\n",
       "    </tr>\n",
       "    <tr>\n",
       "      <th>1</th>\n",
       "      <td>63</td>\n",
       "      <td>242</td>\n",
       "      <td>3</td>\n",
       "      <td>875747190</td>\n",
       "      <td>Kolya (1996)</td>\n",
       "    </tr>\n",
       "    <tr>\n",
       "      <th>2</th>\n",
       "      <td>226</td>\n",
       "      <td>242</td>\n",
       "      <td>5</td>\n",
       "      <td>883888671</td>\n",
       "      <td>Kolya (1996)</td>\n",
       "    </tr>\n",
       "    <tr>\n",
       "      <th>3</th>\n",
       "      <td>154</td>\n",
       "      <td>242</td>\n",
       "      <td>3</td>\n",
       "      <td>879138235</td>\n",
       "      <td>Kolya (1996)</td>\n",
       "    </tr>\n",
       "    <tr>\n",
       "      <th>4</th>\n",
       "      <td>306</td>\n",
       "      <td>242</td>\n",
       "      <td>5</td>\n",
       "      <td>876503793</td>\n",
       "      <td>Kolya (1996)</td>\n",
       "    </tr>\n",
       "  </tbody>\n",
       "</table>\n",
       "</div>"
      ],
      "text/plain": [
       "   user_id  movie_id  rating  timestamp         title\n",
       "0      196       242       3  881250949  Kolya (1996)\n",
       "1       63       242       3  875747190  Kolya (1996)\n",
       "2      226       242       5  883888671  Kolya (1996)\n",
       "3      154       242       3  879138235  Kolya (1996)\n",
       "4      306       242       5  876503793  Kolya (1996)"
      ]
     },
     "execution_count": 5,
     "metadata": {},
     "output_type": "execute_result"
    }
   ],
   "source": [
    "# Merge ratings and movies\n",
    "data = pd.merge(ratings, movies, on = 'movie_id')\n",
    "data.head()"
   ]
  },
  {
   "cell_type": "code",
   "execution_count": 6,
   "id": "42070883",
   "metadata": {},
   "outputs": [
    {
     "name": "stdout",
     "output_type": "stream",
     "text": [
      "Top 3 most-rated movies: [50, 258, 100]\n"
     ]
    }
   ],
   "source": [
    "# Find the top 3 most rated movies\n",
    "most_rated_movies = data.groupby('movie_id').size().sort_values(ascending = False).head(3)\n",
    "# Get movie IDs\n",
    "top_movie_ids = most_rated_movies.index.tolist()\n",
    "print(\"Top 3 most-rated movies:\", top_movie_ids)"
   ]
  },
  {
   "cell_type": "code",
   "execution_count": 7,
   "id": "825ab67e",
   "metadata": {},
   "outputs": [],
   "source": [
    "# Real World scenarion you would collect user input through API, for now simulate for testing\n",
    "new_user_ratings = [\n",
    "    {'user_id': 'new_user', 'movie_id': top_movie_ids[0], 'rating': 4.0},\n",
    "    {'user_id': 'new_user', 'movie_id': top_movie_ids[1], 'rating': 5.0},\n",
    "    {'user_id': 'new_user', 'movie_id': top_movie_ids[2], 'rating': 3.5},\n",
    "]"
   ]
  },
  {
   "cell_type": "code",
   "execution_count": 8,
   "id": "1e836476",
   "metadata": {},
   "outputs": [],
   "source": [
    "# Convert to df\n",
    "new_user_df = pd.DataFrame(new_user_ratings)"
   ]
  },
  {
   "cell_type": "code",
   "execution_count": 9,
   "id": "caed4382",
   "metadata": {},
   "outputs": [
    {
     "name": "stdout",
     "output_type": "stream",
     "text": [
      "100000\n",
      "100003\n"
     ]
    }
   ],
   "source": [
    "# add new user to df\n",
    "maindf_with_new_user = pd.concat([data, new_user_df])\n",
    "print(len(data))\n",
    "print(len(maindf_with_new_user))"
   ]
  },
  {
   "cell_type": "code",
   "execution_count": 10,
   "id": "784835ad",
   "metadata": {},
   "outputs": [],
   "source": [
    "from surprise import Dataset, Reader\n",
    "\n",
    "# Create a Surprise dataset from the updated DataFrame\n",
    "reader = Reader(rating_scale=(1, 5))\n",
    "data_with_new_user = Dataset.load_from_df(maindf_with_new_user[['user_id', 'movie_id', 'rating']], reader)\n",
    "\n",
    "# Build the trainset\n",
    "trainset = data_with_new_user.build_full_trainset()"
   ]
  },
  {
   "cell_type": "code",
   "execution_count": 11,
   "id": "c898f1b5",
   "metadata": {},
   "outputs": [
    {
     "name": "stdout",
     "output_type": "stream",
     "text": [
      "Model loaded successfully\n"
     ]
    }
   ],
   "source": [
    "# import model \n",
    "import pickle\n",
    "\n",
    "with open('final_svd_model.pkl', 'rb') as file:\n",
    "    loaded_model = pickle.load(file)\n",
    "\n",
    "print(\"Model loaded successfully\")"
   ]
  },
  {
   "cell_type": "code",
   "execution_count": 12,
   "id": "3ef36ad0",
   "metadata": {},
   "outputs": [
    {
     "data": {
      "text/plain": [
       "<surprise.prediction_algorithms.matrix_factorization.SVD at 0x122e49f50>"
      ]
     },
     "execution_count": 12,
     "metadata": {},
     "output_type": "execute_result"
    }
   ],
   "source": [
    "## train svd model on new trainset\n",
    "loaded_model.fit(trainset)"
   ]
  },
  {
   "cell_type": "code",
   "execution_count": 13,
   "id": "a9fab9b4",
   "metadata": {
    "scrolled": true
   },
   "outputs": [],
   "source": [
    "# Generate Recs for New User\n",
    "all_movie_ids = data['movie_id'].unique()\n",
    "\n",
    "# Filter out movies the new user has rated\n",
    "rated_movie_ids = [rating['movie_id'] for rating in new_user_ratings]\n",
    "unrated_movie_ids = [movie for movie in all_movie_ids if movie not in rated_movie_ids]"
   ]
  },
  {
   "cell_type": "code",
   "execution_count": 14,
   "id": "d61353d9",
   "metadata": {},
   "outputs": [],
   "source": [
    "#Predict ratings for the unrated movies\n",
    "recommendations = []\n",
    "for movie_id in unrated_movie_ids:\n",
    "    pred = loaded_model.predict('new_user', movie_id)\n",
    "    recommendations.append((movie_id, pred.est))"
   ]
  },
  {
   "cell_type": "code",
   "execution_count": 15,
   "id": "11c3e0d9",
   "metadata": {},
   "outputs": [],
   "source": [
    "# sort the recommendations by preicted rating in descending order\n",
    "recommendations = sorted(recommendations, key = lambda x: x[1], reverse = True)"
   ]
  },
  {
   "cell_type": "code",
   "execution_count": 16,
   "id": "6b441efe",
   "metadata": {},
   "outputs": [
    {
     "name": "stdout",
     "output_type": "stream",
     "text": [
      "top 10 recommendations for new user:\n",
      "Movie ID: 1449, Predicted Rating: 4.55\n",
      "Movie ID: 408, Predicted Rating: 4.51\n",
      "Movie ID: 318, Predicted Rating: 4.50\n",
      "Movie ID: 64, Predicted Rating: 4.49\n",
      "Movie ID: 483, Predicted Rating: 4.45\n",
      "Movie ID: 169, Predicted Rating: 4.45\n",
      "Movie ID: 114, Predicted Rating: 4.43\n",
      "Movie ID: 272, Predicted Rating: 4.37\n",
      "Movie ID: 603, Predicted Rating: 4.35\n",
      "Movie ID: 178, Predicted Rating: 4.34\n"
     ]
    }
   ],
   "source": [
    "# Print top 10 Recommendations for new user\n",
    "print(\"top 10 recommendations for new user:\")\n",
    "for movie_id, rating in recommendations[:10]:\n",
    "    print(f\"Movie ID: {movie_id}, Predicted Rating: {rating:.2f}\")"
   ]
  },
  {
   "cell_type": "code",
   "execution_count": 19,
   "id": "37da0081",
   "metadata": {},
   "outputs": [],
   "source": [
    "# convert recs into dataframe\n",
    "recommendation_df = pd.DataFrame(recommendations, columns = ['movie_id', 'predicted_rating'])"
   ]
  },
  {
   "cell_type": "code",
   "execution_count": 22,
   "id": "4197b4d0",
   "metadata": {},
   "outputs": [],
   "source": [
    "# Merge recommendations with maindf_with_newuser\n",
    "top_recommendations = recommendation_df.merge(\n",
    "  maindf_with_new_user[['movie_id', 'title']].drop_duplicates(),\n",
    "  on = 'movie_id')"
   ]
  },
  {
   "cell_type": "code",
   "execution_count": 23,
   "id": "5d2fe0d0",
   "metadata": {},
   "outputs": [
    {
     "name": "stdout",
     "output_type": "stream",
     "text": [
      "Top 10 recommended movies:\n",
      "                                               title  predicted_rating\n",
      "0                             Pather Panchali (1955)          4.549928\n",
      "1                              Close Shave, A (1995)          4.507649\n",
      "2                            Schindler's List (1993)          4.497812\n",
      "3                   Shawshank Redemption, The (1994)          4.491347\n",
      "4                                  Casablanca (1942)          4.454427\n",
      "5                         Wrong Trousers, The (1993)          4.448903\n",
      "6  Wallace & Gromit: The Best of Aardman Animatio...          4.429150\n",
      "7                           Good Will Hunting (1997)          4.365520\n",
      "8                                 Rear Window (1954)          4.352151\n",
      "9                                12 Angry Men (1957)          4.339688\n"
     ]
    }
   ],
   "source": [
    "top_recommendations = top_recommendations.sort_values(by='predicted_rating', ascending=False)\n",
    "\n",
    "print(\"Top 10 recommended movies:\")\n",
    "print(top_recommendations[['title', 'predicted_rating']].head(10))"
   ]
  },
  {
   "cell_type": "code",
   "execution_count": 31,
   "id": "02c4bcdd",
   "metadata": {},
   "outputs": [
    {
     "data": {
      "text/plain": [
       "array(['Fargo (1996)', 'Contact (1997)', 'Star Wars (1977)'], dtype=object)"
      ]
     },
     "execution_count": 31,
     "metadata": {},
     "output_type": "execute_result"
    }
   ],
   "source": [
    "# Check the movies the new user originally rated to see if this is similar list\n",
    "data[data['movie_id'].isin([50, 258, 100])]['title'].unique()"
   ]
  },
  {
   "cell_type": "code",
   "execution_count": null,
   "id": "2b1601a6",
   "metadata": {},
   "outputs": [],
   "source": []
  }
 ],
 "metadata": {
  "kernelspec": {
   "display_name": "Python 3 (ipykernel)",
   "language": "python",
   "name": "python3"
  },
  "language_info": {
   "codemirror_mode": {
    "name": "ipython",
    "version": 3
   },
   "file_extension": ".py",
   "mimetype": "text/x-python",
   "name": "python",
   "nbconvert_exporter": "python",
   "pygments_lexer": "ipython3",
   "version": "3.11.5"
  }
 },
 "nbformat": 4,
 "nbformat_minor": 5
}
