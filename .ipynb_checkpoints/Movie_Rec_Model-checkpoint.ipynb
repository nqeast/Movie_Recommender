{
 "cells": [
  {
   "cell_type": "code",
   "execution_count": 1,
   "id": "60d0d555",
   "metadata": {},
   "outputs": [],
   "source": [
    "import kagglehub\n",
    "import os\n",
    "import pandas as pd\n",
    "import matplotlib.pyplot as plt"
   ]
  },
  {
   "cell_type": "code",
   "execution_count": 2,
   "id": "104ff490",
   "metadata": {},
   "outputs": [
    {
     "name": "stdout",
     "output_type": "stream",
     "text": [
      "Path to dataset files: /EditPath/.cache/kagglehub/datasets/prajitdatta/movielens-100k-dataset/versions/1\n"
     ]
    }
   ],
   "source": [
    "# Download latest version\n",
    "path = kagglehub.dataset_download(\"prajitdatta/movielens-100k-dataset\")\n",
    "print(\"Path to dataset files:\", path)"
   ]
  },
  {
   "cell_type": "code",
   "execution_count": 3,
   "id": "ccaadde5",
   "metadata": {},
   "outputs": [
    {
     "name": "stdout",
     "output_type": "stream",
     "text": [
      "Files in ml-100k directory: ['u.item', 'u3.test', 'u1.base', 'u.info', 'u2.test', 'u5.test', 'u.genre', 'ub.test', 'ua.base', 'u.data', 'README', 'u4.test', 'u5.base', 'ub.base', 'ua.test', 'u4.base', 'u.user', 'allbut.pl', 'u3.base', 'u1.test', 'mku.sh', 'u2.base', 'u.occupation']\n"
     ]
    }
   ],
   "source": [
    "ml_100k_path = os.path.join(\"/EditPath/.cache/kagglehub/datasets/prajitdatta/movielens-100k-dataset/versions/1\", \"ml-100k\")\n",
    "files_in_ml_100k = os.listdir(ml_100k_path)\n",
    "print(\"Files in ml-100k directory:\", files_in_ml_100k)"
   ]
  },
  {
   "cell_type": "code",
   "execution_count": 4,
   "id": "64d8fd83",
   "metadata": {},
   "outputs": [
    {
     "name": "stdout",
     "output_type": "stream",
     "text": [
      "   user_id  movie_id  rating  timestamp\n",
      "0      196       242       3  881250949\n",
      "1      186       302       3  891717742\n",
      "2       22       377       1  878887116\n",
      "3      244        51       2  880606923\n",
      "4      166       346       1  886397596\n",
      "   movie_id              title\n",
      "0         1   Toy Story (1995)\n",
      "1         2   GoldenEye (1995)\n",
      "2         3  Four Rooms (1995)\n",
      "3         4  Get Shorty (1995)\n",
      "4         5     Copycat (1995)\n"
     ]
    }
   ],
   "source": [
    "# import ratings and movie dataset\n",
    "ratings_path = os.path.join(ml_100k_path, \"u.data\")\n",
    "ratings = pd.read_csv(ratings_path, sep='\\t', names=['user_id', 'movie_id', 'rating', 'timestamp'])\n",
    "print(ratings.head())\n",
    "movies_path = os.path.join(ml_100k_path, \"u.item\")\n",
    "movies = pd.read_csv(movies_path, sep='|', encoding='ISO-8859-1', names=['movie_id', 'title'] + [f'col_{i}' for i in range(22)], usecols=['movie_id', 'title'])\n",
    "print(movies.head())"
   ]
  },
  {
   "cell_type": "markdown",
   "id": "5774263e",
   "metadata": {},
   "source": [
    "## Merge & Clean Data"
   ]
  },
  {
   "cell_type": "code",
   "execution_count": 5,
   "id": "cce75167",
   "metadata": {},
   "outputs": [
    {
     "data": {
      "text/html": [
       "<div>\n",
       "<style scoped>\n",
       "    .dataframe tbody tr th:only-of-type {\n",
       "        vertical-align: middle;\n",
       "    }\n",
       "\n",
       "    .dataframe tbody tr th {\n",
       "        vertical-align: top;\n",
       "    }\n",
       "\n",
       "    .dataframe thead th {\n",
       "        text-align: right;\n",
       "    }\n",
       "</style>\n",
       "<table border=\"1\" class=\"dataframe\">\n",
       "  <thead>\n",
       "    <tr style=\"text-align: right;\">\n",
       "      <th></th>\n",
       "      <th>user_id</th>\n",
       "      <th>movie_id</th>\n",
       "      <th>rating</th>\n",
       "      <th>timestamp</th>\n",
       "      <th>title</th>\n",
       "    </tr>\n",
       "  </thead>\n",
       "  <tbody>\n",
       "    <tr>\n",
       "      <th>0</th>\n",
       "      <td>196</td>\n",
       "      <td>242</td>\n",
       "      <td>3</td>\n",
       "      <td>881250949</td>\n",
       "      <td>Kolya (1996)</td>\n",
       "    </tr>\n",
       "    <tr>\n",
       "      <th>1</th>\n",
       "      <td>63</td>\n",
       "      <td>242</td>\n",
       "      <td>3</td>\n",
       "      <td>875747190</td>\n",
       "      <td>Kolya (1996)</td>\n",
       "    </tr>\n",
       "    <tr>\n",
       "      <th>2</th>\n",
       "      <td>226</td>\n",
       "      <td>242</td>\n",
       "      <td>5</td>\n",
       "      <td>883888671</td>\n",
       "      <td>Kolya (1996)</td>\n",
       "    </tr>\n",
       "    <tr>\n",
       "      <th>3</th>\n",
       "      <td>154</td>\n",
       "      <td>242</td>\n",
       "      <td>3</td>\n",
       "      <td>879138235</td>\n",
       "      <td>Kolya (1996)</td>\n",
       "    </tr>\n",
       "    <tr>\n",
       "      <th>4</th>\n",
       "      <td>306</td>\n",
       "      <td>242</td>\n",
       "      <td>5</td>\n",
       "      <td>876503793</td>\n",
       "      <td>Kolya (1996)</td>\n",
       "    </tr>\n",
       "  </tbody>\n",
       "</table>\n",
       "</div>"
      ],
      "text/plain": [
       "   user_id  movie_id  rating  timestamp         title\n",
       "0      196       242       3  881250949  Kolya (1996)\n",
       "1       63       242       3  875747190  Kolya (1996)\n",
       "2      226       242       5  883888671  Kolya (1996)\n",
       "3      154       242       3  879138235  Kolya (1996)\n",
       "4      306       242       5  876503793  Kolya (1996)"
      ]
     },
     "execution_count": 5,
     "metadata": {},
     "output_type": "execute_result"
    }
   ],
   "source": [
    "# Merge ratings and movies\n",
    "data = pd.merge(ratings, movies, on = 'movie_id')\n",
    "data.head()"
   ]
  },
  {
   "cell_type": "code",
   "execution_count": 6,
   "id": "685cefb2",
   "metadata": {},
   "outputs": [
    {
     "data": {
      "text/html": [
       "<div>\n",
       "<style scoped>\n",
       "    .dataframe tbody tr th:only-of-type {\n",
       "        vertical-align: middle;\n",
       "    }\n",
       "\n",
       "    .dataframe tbody tr th {\n",
       "        vertical-align: top;\n",
       "    }\n",
       "\n",
       "    .dataframe thead th {\n",
       "        text-align: right;\n",
       "    }\n",
       "</style>\n",
       "<table border=\"1\" class=\"dataframe\">\n",
       "  <thead>\n",
       "    <tr style=\"text-align: right;\">\n",
       "      <th></th>\n",
       "      <th>user_id</th>\n",
       "      <th>movie_id</th>\n",
       "      <th>rating</th>\n",
       "      <th>title</th>\n",
       "    </tr>\n",
       "  </thead>\n",
       "  <tbody>\n",
       "    <tr>\n",
       "      <th>0</th>\n",
       "      <td>196</td>\n",
       "      <td>242</td>\n",
       "      <td>3</td>\n",
       "      <td>Kolya (1996)</td>\n",
       "    </tr>\n",
       "  </tbody>\n",
       "</table>\n",
       "</div>"
      ],
      "text/plain": [
       "   user_id  movie_id  rating         title\n",
       "0      196       242       3  Kolya (1996)"
      ]
     },
     "execution_count": 6,
     "metadata": {},
     "output_type": "execute_result"
    }
   ],
   "source": [
    "# drop timestamp\n",
    "data1 = data.drop(columns = ['timestamp'])\n",
    "data1.head(1)"
   ]
  },
  {
   "cell_type": "code",
   "execution_count": 7,
   "id": "a849a29b",
   "metadata": {},
   "outputs": [
    {
     "data": {
      "text/plain": [
       "user_id     0\n",
       "movie_id    0\n",
       "rating      0\n",
       "title       0\n",
       "dtype: int64"
      ]
     },
     "execution_count": 7,
     "metadata": {},
     "output_type": "execute_result"
    }
   ],
   "source": [
    "# check missing values\n",
    "data1.isna().sum()"
   ]
  },
  {
   "cell_type": "markdown",
   "id": "0477b61b",
   "metadata": {},
   "source": [
    "## EDA"
   ]
  },
  {
   "cell_type": "code",
   "execution_count": 8,
   "id": "3238c2de",
   "metadata": {},
   "outputs": [],
   "source": [
    "# copy data for eda\n",
    "mrdf = data1.copy()"
   ]
  },
  {
   "cell_type": "code",
   "execution_count": 9,
   "id": "9ee47258",
   "metadata": {},
   "outputs": [
    {
     "data": {
      "image/png": "[encoded data removed]",
      "text/plain": [
       "<Figure size 640x480 with 1 Axes>"
      ]
     },
     "metadata": {},
     "output_type": "display_data"
    }
   ],
   "source": [
    "# Distribution of ratings\n",
    "mrdf['rating'].value_counts().sort_index().plot(kind = 'bar')\n",
    "plt.title('Ratings Distribution')\n",
    "plt.xlabel('Rating')\n",
    "plt.ylabel('Frequency')\n",
    "plt.show()"
   ]
  },
  {
   "cell_type": "markdown",
   "id": "dab1e743",
   "metadata": {},
   "source": [
    "### User Item Interaction Matrix"
   ]
  },
  {
   "cell_type": "code",
   "execution_count": 10,
   "id": "d228c1b2",
   "metadata": {},
   "outputs": [],
   "source": [
    "# # create UTIM \n",
    "# user_item_matrix = mrdf.pivot_table(index = 'user_id', columns = 'title', values = 'rating')\n",
    "# user_item_matrix"
   ]
  },
  {
   "cell_type": "markdown",
   "id": "53741c35",
   "metadata": {},
   "source": [
    "### Collaborative Filtering with Matrix Factorization"
   ]
  },
  {
   "cell_type": "markdown",
   "id": "67f2b076",
   "metadata": {},
   "source": [
    "Algorithms Based on k-NN\n",
    "- very close to the centered cosine similarity"
   ]
  },
  {
   "cell_type": "code",
   "execution_count": 11,
   "id": "07f9dda9",
   "metadata": {},
   "outputs": [],
   "source": [
    "from surprise import KNNWithMeans\n",
    "\n",
    "# Item-based cosine similarity\n",
    "sim_options = {\n",
    "    \"name\": \"cosine\",\n",
    "    \"user_based\": False, #compute similarities between items\n",
    "}\n",
    "\n",
    "# Initalize \n",
    "algo = KNNWithMeans(sim_options = sim_options)"
   ]
  },
  {
   "cell_type": "code",
   "execution_count": 12,
   "id": "9a63219e",
   "metadata": {},
   "outputs": [],
   "source": [
    "from surprise import Dataset, Reader\n",
    "from surprise.model_selection import train_test_split"
   ]
  },
  {
   "cell_type": "code",
   "execution_count": 13,
   "id": "9d92733f",
   "metadata": {},
   "outputs": [],
   "source": [
    "# convert data to the required format \n",
    "\n",
    "reader = Reader(rating_scale = (1, 5))\n",
    "data = Dataset.load_from_df(mrdf[['user_id', 'movie_id', 'rating']], reader)"
   ]
  },
  {
   "cell_type": "code",
   "execution_count": 14,
   "id": "9ad275b3",
   "metadata": {},
   "outputs": [],
   "source": [
    "# split data\n",
    "trainset, testset = train_test_split(data, test_size = 0.2)"
   ]
  },
  {
   "cell_type": "code",
   "execution_count": 15,
   "id": "6eb6781c",
   "metadata": {},
   "outputs": [
    {
     "name": "stdout",
     "output_type": "stream",
     "text": [
      "Computing the cosine similarity matrix...\n",
      "Done computing similarity matrix.\n"
     ]
    }
   ],
   "source": [
    "# fit algorithm on training set\n",
    "algo.fit(trainset)\n",
    "\n",
    "#predictions\n",
    "predictions = algo.test(testset)"
   ]
  },
  {
   "cell_type": "code",
   "execution_count": 16,
   "id": "433fe834",
   "metadata": {},
   "outputs": [
    {
     "name": "stdout",
     "output_type": "stream",
     "text": [
      "Computing the cosine similarity matrix...\n",
      "Done computing similarity matrix.\n",
      "Computing the cosine similarity matrix...\n",
      "Done computing similarity matrix.\n",
      "Computing the cosine similarity matrix...\n",
      "Done computing similarity matrix.\n",
      "Evaluating RMSE, MAE of algorithm KNNWithMeans on 3 split(s).\n",
      "\n",
      "                  Fold 1  Fold 2  Fold 3  Mean    Std     \n",
      "RMSE (testset)    0.9494  0.9518  0.9488  0.9500  0.0013  \n",
      "MAE (testset)     0.7477  0.7492  0.7471  0.7480  0.0009  \n",
      "Fit time          0.34    0.40    0.39    0.38    0.03    \n",
      "Test time         3.67    3.44    3.64    3.58    0.10    \n"
     ]
    }
   ],
   "source": [
    "# use cross validation for more robust accuracy\n",
    "from surprise.model_selection import cross_validate\n",
    "\n",
    "results = cross_validate(algo, data, measures = ['RMSE', 'MAE'], cv = 3, verbose = True)"
   ]
  },
  {
   "cell_type": "markdown",
   "id": "a3c1f386",
   "metadata": {},
   "source": [
    "Too much compute power for local, but example to hypertune parameters"
   ]
  },
  {
   "cell_type": "code",
   "execution_count": 17,
   "id": "052f2792",
   "metadata": {},
   "outputs": [
    {
     "name": "stdout",
     "output_type": "stream",
     "text": [
      "Computing the msd similarity matrix...\n",
      "Done computing similarity matrix.\n",
      "Computing the msd similarity matrix...\n",
      "Done computing similarity matrix.\n",
      "Computing the msd similarity matrix...\n",
      "Done computing similarity matrix.\n",
      "Computing the msd similarity matrix...\n",
      "Done computing similarity matrix.\n",
      "Computing the msd similarity matrix...\n",
      "Done computing similarity matrix.\n",
      "Computing the msd similarity matrix...\n",
      "Done computing similarity matrix.\n",
      "Computing the cosine similarity matrix...\n",
      "Done computing similarity matrix.\n",
      "Computing the cosine similarity matrix...\n",
      "Done computing similarity matrix.\n",
      "Computing the cosine similarity matrix...\n",
      "Done computing similarity matrix.\n",
      "Computing the cosine similarity matrix...\n",
      "Done computing similarity matrix.\n",
      "Computing the cosine similarity matrix...\n",
      "Done computing similarity matrix.\n",
      "Computing the cosine similarity matrix...\n",
      "Done computing similarity matrix.\n",
      "Computing the msd similarity matrix...\n",
      "Done computing similarity matrix.\n",
      "Computing the msd similarity matrix...\n",
      "Done computing similarity matrix.\n",
      "Computing the msd similarity matrix...\n",
      "Done computing similarity matrix.\n",
      "Computing the msd similarity matrix...\n",
      "Done computing similarity matrix.\n",
      "Computing the msd similarity matrix...\n",
      "Done computing similarity matrix.\n",
      "Computing the msd similarity matrix...\n",
      "Done computing similarity matrix.\n",
      "Computing the cosine similarity matrix...\n",
      "Done computing similarity matrix.\n",
      "Computing the cosine similarity matrix...\n",
      "Done computing similarity matrix.\n",
      "Computing the cosine similarity matrix...\n",
      "Done computing similarity matrix.\n",
      "Computing the cosine similarity matrix...\n",
      "Done computing similarity matrix.\n",
      "Computing the cosine similarity matrix...\n",
      "Done computing similarity matrix.\n",
      "Computing the cosine similarity matrix...\n",
      "Done computing similarity matrix.\n",
      "Computing the msd similarity matrix...\n",
      "Done computing similarity matrix.\n",
      "Computing the msd similarity matrix...\n",
      "Done computing similarity matrix.\n",
      "Computing the msd similarity matrix...\n",
      "Done computing similarity matrix.\n",
      "Computing the msd similarity matrix...\n",
      "Done computing similarity matrix.\n",
      "Computing the msd similarity matrix...\n",
      "Done computing similarity matrix.\n",
      "Computing the msd similarity matrix...\n",
      "Done computing similarity matrix.\n",
      "Computing the cosine similarity matrix...\n",
      "Done computing similarity matrix.\n",
      "Computing the cosine similarity matrix...\n",
      "Done computing similarity matrix.\n",
      "Computing the cosine similarity matrix...\n",
      "Done computing similarity matrix.\n",
      "Computing the cosine similarity matrix...\n",
      "Done computing similarity matrix.\n",
      "Computing the cosine similarity matrix...\n",
      "Done computing similarity matrix.\n",
      "Computing the cosine similarity matrix...\n",
      "Done computing similarity matrix.\n",
      "Computing the msd similarity matrix...\n",
      "Done computing similarity matrix.\n",
      "Computing the msd similarity matrix...\n",
      "Done computing similarity matrix.\n",
      "Computing the msd similarity matrix...\n",
      "Done computing similarity matrix.\n",
      "Computing the msd similarity matrix...\n",
      "Done computing similarity matrix.\n",
      "Computing the msd similarity matrix...\n",
      "Done computing similarity matrix.\n",
      "Computing the msd similarity matrix...\n",
      "Done computing similarity matrix.\n",
      "Computing the cosine similarity matrix...\n",
      "Done computing similarity matrix.\n",
      "Computing the cosine similarity matrix...\n",
      "Done computing similarity matrix.\n",
      "Computing the cosine similarity matrix...\n",
      "Done computing similarity matrix.\n",
      "Computing the cosine similarity matrix...\n",
      "Done computing similarity matrix.\n",
      "Computing the cosine similarity matrix...\n",
      "Done computing similarity matrix.\n",
      "Computing the cosine similarity matrix...\n",
      "Done computing similarity matrix.\n",
      "Computing the msd similarity matrix...\n",
      "Done computing similarity matrix.\n",
      "Computing the msd similarity matrix...\n",
      "Done computing similarity matrix.\n",
      "Computing the msd similarity matrix...\n",
      "Done computing similarity matrix.\n",
      "Computing the msd similarity matrix...\n",
      "Done computing similarity matrix.\n",
      "Computing the msd similarity matrix...\n",
      "Done computing similarity matrix.\n",
      "Computing the msd similarity matrix...\n",
      "Done computing similarity matrix.\n",
      "Computing the cosine similarity matrix...\n",
      "Done computing similarity matrix.\n",
      "Computing the cosine similarity matrix...\n",
      "Done computing similarity matrix.\n",
      "Computing the cosine similarity matrix...\n",
      "Done computing similarity matrix.\n",
      "Computing the cosine similarity matrix...\n",
      "Done computing similarity matrix.\n",
      "Computing the cosine similarity matrix...\n",
      "Done computing similarity matrix.\n",
      "Computing the cosine similarity matrix...\n",
      "Done computing similarity matrix.\n",
      "Computing the msd similarity matrix...\n",
      "Done computing similarity matrix.\n",
      "Computing the msd similarity matrix...\n",
      "Done computing similarity matrix.\n",
      "Computing the msd similarity matrix...\n",
      "Done computing similarity matrix.\n",
      "Computing the msd similarity matrix...\n",
      "Done computing similarity matrix.\n",
      "Computing the msd similarity matrix...\n",
      "Done computing similarity matrix.\n",
      "Computing the msd similarity matrix...\n",
      "Done computing similarity matrix.\n",
      "Computing the cosine similarity matrix...\n",
      "Done computing similarity matrix.\n",
      "Computing the cosine similarity matrix...\n",
      "Done computing similarity matrix.\n",
      "Computing the cosine similarity matrix...\n",
      "Done computing similarity matrix.\n",
      "Computing the cosine similarity matrix...\n",
      "Done computing similarity matrix.\n",
      "Computing the cosine similarity matrix...\n",
      "Done computing similarity matrix.\n",
      "Computing the cosine similarity matrix...\n",
      "Done computing similarity matrix.\n",
      "Best RMSE: 0.9499190315436347\n",
      "Best Parameters: {'k': 20, 'min_k': 1, 'sim_options': {'name': 'msd', 'user_based': False}}\n"
     ]
    }
   ],
   "source": [
    "# hypertune parameters\n",
    "from surprise.model_selection import GridSearchCV\n",
    "\n",
    "param_grid = {\n",
    "    'k': [5, 10, 20],\n",
    "    'min_k': [1, 3],\n",
    "    'sim_options': {\n",
    "        'name': ['msd', 'cosine'],\n",
    "        'user_based': [False, True]\n",
    "    }\n",
    "}\n",
    "\n",
    "grid_search = GridSearchCV(KNNWithMeans, param_grid, measures = ['rmse', 'mae'], cv = 3)\n",
    "\n",
    "# run grid seach on dataset\n",
    "grid_search.fit(data)\n",
    "\n",
    "# get the best parameters\n",
    "print(\"Best RMSE:\", grid_search.best_score['rmse'])\n",
    "print(\"Best Parameters:\", grid_search.best_params['rmse'])"
   ]
  },
  {
   "cell_type": "code",
   "execution_count": 23,
   "id": "57909305",
   "metadata": {},
   "outputs": [
    {
     "name": "stdout",
     "output_type": "stream",
     "text": [
      "Computing the msd similarity matrix...\n",
      "Done computing similarity matrix.\n",
      "RMSE: 0.9379\n",
      "MAE:  0.7350\n",
      "Final RMSE on test set: 0.9379391618382871\n",
      "Final MAE on test set: 0.734950850840524\n"
     ]
    }
   ],
   "source": [
    "# Test best params on train set\n",
    "\n",
    "best_KNN_algo = KNNWithMeans(\n",
    "    k = grid_search.best_params['rmse']['k'],\n",
    "    min_k = grid_search.best_params['rmse']['min_k'],\n",
    "    sim_options = grid_search.best_params['rmse']['sim_options']\n",
    ")\n",
    "\n",
    "# train KNN model with best params\n",
    "best_KNN_algo.fit(trainset)\n",
    "\n",
    "predictions = best_KNN_algo.test(testset)\n",
    "\n",
    "# Evaluate on the test set\n",
    "rmse_KNN = accuracy.rmse(predictions)\n",
    "mae_KNN = accuracy.mae(predictions)\n",
    "\n",
    "print(f\"Final RMSE on test set: {rmse_KNN}\")\n",
    "print(f\"Final MAE on test set: {rmse_KNN}\")"
   ]
  },
  {
   "cell_type": "markdown",
   "id": "8040913e",
   "metadata": {},
   "source": [
    "- For a quicker option use randomized search:\n",
    "param_grid = {\n",
    "    'k': random.sample(range(5, 50), 5),  # Randomly select 5 values for k between 5 and 50\n",
    "    'min_k': [1, 3, 5],\n",
    "    'sim_options': {\n",
    "        'name': ['cosine', 'pearson'],\n",
    "        'user_based': [False]\n",
    "    }\n",
    "}\n",
    "\n",
    "- Use RandomizedSearchCV:\n",
    "random_search = RandomizedSearchCV(KNNWithMeans, param_grid, measures=['rmse', 'mae'], cv=3, n_iter=10)\n",
    "\n",
    "- Run the random search:\n",
    "random_search.fit(data)\n",
    "\n",
    "- Get the best parameters:\n",
    "print(\"Best RMSE:\", random_search.best_score['rmse'])\n",
    "print(\"Best Parameters:\", random_search.best_params['rmse'])"
   ]
  },
  {
   "cell_type": "code",
   "execution_count": 18,
   "id": "560d0b58",
   "metadata": {},
   "outputs": [
    {
     "name": "stdout",
     "output_type": "stream",
     "text": [
      "Evaluating RMSE, MAE of algorithm SVD on 5 split(s).\n",
      "\n",
      "                  Fold 1  Fold 2  Fold 3  Fold 4  Fold 5  Mean    Std     \n",
      "RMSE (testset)    0.9303  0.9284  0.9417  0.9426  0.9376  0.9361  0.0058  \n",
      "MAE (testset)     0.7355  0.7310  0.7397  0.7422  0.7407  0.7378  0.0041  \n",
      "Fit time          0.84    0.97    0.84    0.87    0.86    0.88    0.05    \n",
      "Test time         0.10    0.15    0.08    0.08    0.08    0.10    0.03    \n"
     ]
    }
   ],
   "source": [
    "# Train SVD model to compare to KNN\n",
    "from surprise import SVD\n",
    "\n",
    "#initalize \n",
    "svd = SVD()\n",
    "\n",
    "# Perform cross validatation\n",
    "results_svd = cross_validate(svd, data, measures = ['RMSE', 'MAE'], cv =5, verbose = True)"
   ]
  },
  {
   "cell_type": "code",
   "execution_count": 20,
   "id": "6664c223",
   "metadata": {},
   "outputs": [
    {
     "name": "stdout",
     "output_type": "stream",
     "text": [
      "RMSE: 0.9356\n",
      "MAE:  0.7380\n",
      "SVD - RMSE: 0.9355699300516724, MAE: 0.7379791852765081\n"
     ]
    }
   ],
   "source": [
    "# Compare SVD perfromance with tuned KNNWithMeans\n",
    "from surprise import accuracy\n",
    "trainset, testset = train_test_split(data, test_size = 0.2)\n",
    "svd.fit(trainset)\n",
    "predictions_svd = svd.test(testset)\n",
    "\n",
    "# Evaluate\n",
    "rmse_svd = accuracy.rmse(predictions_svd)\n",
    "mae_svd = accuracy.mae(predictions_svd)\n",
    "\n",
    "# print\n",
    "print(f\"SVD - RMSE: {rmse_svd}, MAE: {mae_svd}\")"
   ]
  },
  {
   "cell_type": "code",
   "execution_count": 25,
   "id": "48e0c0be",
   "metadata": {},
   "outputs": [
    {
     "name": "stdout",
     "output_type": "stream",
     "text": [
      "KNN - RMSE: 0.9379391618382871, MAE: 0.734950850840524\n",
      "SVD - RMSE: 0.9355699300516724, MAE: 0.7379791852765081\n"
     ]
    }
   ],
   "source": [
    "# compare KNNWithMeans and SVD models\n",
    "print(f\"KNN - RMSE: {rmse_KNN}, MAE: {mae_KNN}\")\n",
    "print(f\"SVD - RMSE: {rmse_svd}, MAE: {mae_svd}\")"
   ]
  },
  {
   "cell_type": "markdown",
   "id": "f8f3509f",
   "metadata": {},
   "source": [
    "Results of Model Comparison:\n",
    "- Hypertuned KNN models is outperformed by default SVD model without tuning\n",
    "- SVD is typically more powerful for sparse data like movie ratings data\n",
    "- SVD does a better job at capturing latent features\n",
    "Use SVD model and tune"
   ]
  },
  {
   "cell_type": "code",
   "execution_count": 27,
   "id": "79515f8b",
   "metadata": {},
   "outputs": [
    {
     "name": "stdout",
     "output_type": "stream",
     "text": [
      "Best RMSE: 0.9350202320388981\n",
      "Best Parameters: {'n_factors': 100, 'n_epochs': 30, 'lr_all': 0.005, 'reg_all': 0.1}\n"
     ]
    }
   ],
   "source": [
    "# Tune SVD model for final evaluation\n",
    "\n",
    "param_grid = {\n",
    "    'n_factors': [50, 100], # number of latent factos\n",
    "    'n_epochs': [20, 30], # number of training epochs\n",
    "    'lr_all': [0.002, 0.005], # learning rate for all params\n",
    "    'reg_all': [0.02, 0.1] # regularization term\n",
    "}\n",
    "\n",
    "# Use grid search\n",
    "grid_search_svd = GridSearchCV(SVD, param_grid, measures=['rmse', 'mae'], cv=3)\n",
    "grid_search_svd.fit(data)\n",
    "\n",
    "# Get the best parameters and scores\n",
    "print(\"Best RMSE:\", grid_search_svd.best_score['rmse'])\n",
    "print(\"Best Parameters:\", grid_search_svd.best_params['rmse'])"
   ]
  },
  {
   "cell_type": "code",
   "execution_count": 31,
   "id": "73b85e36",
   "metadata": {},
   "outputs": [
    {
     "name": "stdout",
     "output_type": "stream",
     "text": [
      "RMSE: 0.9263\n",
      "MAE:  0.7336\n"
     ]
    }
   ],
   "source": [
    "# evalute best svd model\n",
    "\n",
    "best_svd = SVD(n_factors = 100, n_epochs = 30, lr_all = 0.005, reg_all = 0.1)\n",
    "\n",
    "# train model\n",
    "best_svd.fit(trainset)\n",
    "\n",
    "#preditions\n",
    "predictions_svd = best_svd.test(testset)\n",
    "\n",
    "# evaluate performance\n",
    "rmse_bestsvd = accuracy.rmse(predictions_svd)\n",
    "mae_bestsvd = accuracy.mae(predictions_svd)"
   ]
  },
  {
   "cell_type": "code",
   "execution_count": 32,
   "id": "37493f25",
   "metadata": {},
   "outputs": [
    {
     "name": "stdout",
     "output_type": "stream",
     "text": [
      "KNN - RMSE: 0.9379391618382871, MAE: 0.734950850840524\n",
      "SVD - RMSE: 0.9263497715394473, MAE: 0.7335817525189486\n"
     ]
    }
   ],
   "source": [
    "# Compare with Tuned KNNWithMeans models vs. Tuned SVD\n",
    "print(f\"KNN - RMSE: {rmse_KNN}, MAE: {mae_KNN}\")\n",
    "print(f\"SVD - RMSE: {rmse_bestsvd}, MAE: {mae_bestsvd}\")"
   ]
  },
  {
   "cell_type": "markdown",
   "id": "1d5968a8",
   "metadata": {},
   "source": [
    "- SVD is handling Large errors better, and making less frequent smaller errors\n",
    "- SVD is best model moving forward"
   ]
  },
  {
   "cell_type": "markdown",
   "id": "31588bd4",
   "metadata": {},
   "source": [
    "## Possible Next Steps:\n",
    "- Analyze distribution of prediction errors\n",
    "- Try SVD++ to see if it performs better"
   ]
  },
  {
   "cell_type": "code",
   "execution_count": 33,
   "id": "2c7a95dc",
   "metadata": {},
   "outputs": [],
   "source": [
    "import pickle\n",
    "\n",
    "# save model to file\n",
    "with open('final_svd_model.pkl', 'wb') as file:\n",
    "    pickle.dump(best_svd, file)"
   ]
  },
  {
   "cell_type": "code",
   "execution_count": 34,
   "id": "afdbbc70",
   "metadata": {},
   "outputs": [
    {
     "name": "stdout",
     "output_type": "stream",
     "text": [
      "Model loaded successfully\n"
     ]
    }
   ],
   "source": [
    "# Load the saved model\n",
    "with open('final_svd_model.pkl', 'rb') as file:\n",
    "    loaded_model = pickle.load(file)\n",
    "\n",
    "print(\"Model loaded successfully\")"
   ]
  },
  {
   "cell_type": "code",
   "execution_count": 35,
   "id": "57ac82f7",
   "metadata": {},
   "outputs": [
    {
     "name": "stdout",
     "output_type": "stream",
     "text": [
      "Predicted rating for user 196 on movie 242: 3.5288875\n"
     ]
    }
   ],
   "source": [
    "# Use model to make predictions\n",
    "\n",
    "user_id = '196'      # User ID as a string\n",
    "movie_id = '242'     # Movie ID as a string\n",
    "predicted_rating = loaded_model.predict(user_id, movie_id)\n",
    "\n",
    "print(f\"Predicted rating for user {user_id} on movie {movie_id}: {predicted_rating.est}\")"
   ]
  }
 ],
 "metadata": {
  "kernelspec": {
   "display_name": "Python 3 (ipykernel)",
   "language": "python",
   "name": "python3"
  },
  "language_info": {
   "codemirror_mode": {
    "name": "ipython",
    "version": 3
   },
   "file_extension": ".py",
   "mimetype": "text/x-python",
   "name": "python",
   "nbconvert_exporter": "python",
   "pygments_lexer": "ipython3",
   "version": "3.11.5"
  }
 },
 "nbformat": 4,
 "nbformat_minor": 5
}
